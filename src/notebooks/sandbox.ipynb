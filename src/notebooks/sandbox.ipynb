{
 "cells": [
  {
   "cell_type": "code",
   "execution_count": 2,
   "id": "840e26b4",
   "metadata": {},
   "outputs": [],
   "source": [
    "import sys\n",
    "sys.path.append('..')\n",
    "\n",
    "import toml\n",
    "import os\n",
    "\n",
    "import torch\n",
    "\n",
    "from models.vision_transformer import ViT"
   ]
  },
  {
   "cell_type": "code",
   "execution_count": 4,
   "id": "73210ac5",
   "metadata": {},
   "outputs": [],
   "source": [
    "\n",
    "config_path = '/glade/u/home/jshen/pruning-turbulence-vit/src/config/prune/unstructured_cosine_resume.toml'\n",
    "config = toml.load(config_path)\n",
    "\n",
    "model = ViT(**config['model'])\n",
    "state_dict = torch.load(config['checkpoint_file'], map_location='cpu', weights_only=False)\n",
    "model.load_state_dict(state_dict)"
   ]
  }
 ],
 "metadata": {
  "kernelspec": {
   "display_name": "vit",
   "language": "python",
   "name": "python3"
  },
  "language_info": {
   "codemirror_mode": {
    "name": "ipython",
    "version": 3
   },
   "file_extension": ".py",
   "mimetype": "text/x-python",
   "name": "python",
   "nbconvert_exporter": "python",
   "pygments_lexer": "ipython3",
   "version": "3.10.9"
  }
 },
 "nbformat": 4,
 "nbformat_minor": 5
}
